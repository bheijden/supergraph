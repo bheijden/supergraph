{
 "cells": [
  {
   "cell_type": "code",
   "execution_count": 2,
   "metadata": {},
   "outputs": [
    {
     "name": "stdout",
     "output_type": "stream",
     "text": [
      "Default figsize: [6.4, 4.8]\n",
      "Rescaled figsize: [4.9143622, 3.6857716499999995]\n",
      "Half figsize: [2.4571811, 1.8428858249999998]\n",
      "Halfwidth figsize: [2.4571811, 2.21146299]\n"
     ]
    }
   ],
   "source": [
    "import os\n",
    "import numpy as np\n",
    "import matplotlib.pyplot as plt\n",
    "import matplotlib.patches as mpatches\n",
    "\n",
    "# Setup sns plotting\n",
    "# import seaborn as sns\n",
    "# sns.set(style=\"whitegrid\", font_scale=1.5)\n",
    "cmap = plt.rcParams['axes.prop_cycle'].by_key()['color']\n",
    "cmap = cmap[1:] + cmap[:1]\n",
    "# for key, value in plt.rcParams.items():\n",
    "    # if \"font.size\" not in key:\n",
    "        # continue\n",
    "    # print(key, value)\n",
    "plt.rcParams['axes.labelweight'] = 'bold'\n",
    "plt.rcParams['axes.labelsize'] = 10\n",
    "plt.rcParams['legend.fontsize'] = 9\n",
    "plt.rcParams['font.size'] = 12\n",
    "plt.rcParams['xtick.labelsize'] = 8\n",
    "plt.rcParams['ytick.labelsize'] = 8\n",
    "plt.rcParams['xtick.major.pad'] = -2.0\n",
    "plt.rcParams['ytick.major.pad'] = -2.0\n",
    "plt.rcParams['lines.linewidth'] = 1.3\n",
    "plt.rcParams['axes.xmargin'] = 0.0\n",
    "\n",
    "# Rescale figures\n",
    "width_points = 245.71811*2\n",
    "width_inches = width_points / plt.rcParams['figure.dpi']\n",
    "default_figsize = plt.rcParams['figure.figsize']\n",
    "rescaled_width = width_inches\n",
    "rescaled_height = width_inches * default_figsize[1] / default_figsize[0]\n",
    "rescaled_figsize = [rescaled_width, rescaled_height]\n",
    "half_figsize = [0.5*s for s in rescaled_figsize]\n",
    "halfwidth_figsize = [c*s for c, s in zip([0.5, 0.6], rescaled_figsize)]\n",
    "print(\"Default figsize:\", default_figsize)\n",
    "print(\"Rescaled figsize:\", rescaled_figsize)\n",
    "print(\"Half figsize:\", half_figsize)\n",
    "print(\"Halfwidth figsize:\", halfwidth_figsize)"
   ]
  },
  {
   "cell_type": "code",
   "execution_count": 3,
   "metadata": {
    "collapsed": false,
    "jupyter": {
     "outputs_hidden": false
    },
    "pycharm": {
     "name": "#%%\n"
    }
   },
   "outputs": [
    {
     "data": {
      "text/plain": [
       "<wandb.sdk.wandb_setup._WandbSetup at 0x7fa978504550>"
      ]
     },
     "execution_count": 3,
     "metadata": {},
     "output_type": "execute_result"
    }
   ],
   "source": [
    "import wandb\n",
    "wandb.setup()"
   ]
  },
  {
   "cell_type": "code",
   "execution_count": null,
   "metadata": {},
   "outputs": [],
   "source": [
    "wandb."
   ]
  }
 ],
 "metadata": {
  "kernelspec": {
   "display_name": "Python 3 (ipykernel)",
   "language": "python",
   "name": "python3"
  },
  "language_info": {
   "codemirror_mode": {
    "name": "ipython",
    "version": 3
   },
   "file_extension": ".py",
   "mimetype": "text/x-python",
   "name": "python",
   "nbconvert_exporter": "python",
   "pygments_lexer": "ipython3",
   "version": "3.8.10"
  }
 },
 "nbformat": 4,
 "nbformat_minor": 4
}